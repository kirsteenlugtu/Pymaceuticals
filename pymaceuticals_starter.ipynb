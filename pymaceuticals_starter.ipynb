{
 "cells": [
  {
   "cell_type": "markdown",
   "metadata": {},
   "source": [
    "## Observations and Insights "
   ]
  },
  {
   "cell_type": "markdown",
   "metadata": {},
   "source": []
  },
  {
   "cell_type": "code",
   "execution_count": null,
   "metadata": {},
   "outputs": [],
   "source": [
    "# Dependencies and Setup\n",
    "import matplotlib.pyplot as plt\n",
    "import pandas as pd\n",
    "import scipy.stats as st\n",
    "import numpy as np\n",
    "\n",
    "# Study data files\n",
    "mouse_metadata_path = \"data/Mouse_metadata.csv\"\n",
    "study_results_path = \"data/Study_results.csv\"\n",
    "\n",
    "# Read the mouse data and the study results\n",
    "mouse_metadata = pd.read_csv(mouse_metadata_path)\n",
    "study_results = pd.read_csv(study_results_path)"
   ]
  },
  {
   "cell_type": "code",
   "execution_count": null,
   "metadata": {},
   "outputs": [],
   "source": [
    "# Combine the data into a single dataset\n",
    "complete_data = pd.merge(study_results, mouse_metadata, on='Mouse ID')\n",
    "\n",
    "# Display the data table for preview\n",
    "complete_data.describe()"
   ]
  },
  {
   "cell_type": "code",
   "execution_count": null,
   "metadata": {},
   "outputs": [],
   "source": [
    "# Checking the number of mice.\n",
    "mouseIDs = complete_data['Mouse ID'].unique()\n",
    "mouseCount = len(mouseIDs)"
   ]
  },
  {
   "cell_type": "code",
   "execution_count": null,
   "metadata": {},
   "outputs": [],
   "source": [
    "# Get the duplicate mice by ID number that shows up for Mouse ID and Timepoint. \n",
    "dup_df = study_results[study_results.duplicated(subset=['Mouse ID','Timepoint'], keep=False)]\n",
    "\n",
    "dupIDs = pd.unique(dup_df['Mouse ID'])\n",
    "dupIDs\n"
   ]
  },
  {
   "cell_type": "code",
   "execution_count": null,
   "metadata": {},
   "outputs": [],
   "source": [
    "# Optional: Get all the data for the duplicate mouse ID. \n",
    "\n",
    "#x=complete_data.loc(['Mouse ID'])\n",
    "for i in dupIDs:\n",
    "    x  = complete_data[complete_data['Mouse ID'] == i]\n",
    "x"
   ]
  },
  {
   "cell_type": "code",
   "execution_count": null,
   "metadata": {},
   "outputs": [],
   "source": [
    "# Create a clean DataFrame by dropping the duplicate mouse by its ID.\n",
    "for ID in dupIDs:\n",
    "    clean_data = complete_data[complete_data['Mouse ID'] != ID]\n"
   ]
  },
  {
   "cell_type": "code",
   "execution_count": null,
   "metadata": {},
   "outputs": [],
   "source": [
    "# Checking the number of data points in the clean DataFrame.\n",
    "dataTotal = len(clean_data)\n",
    "\n",
    "# Checking the number of mice in the clean DataFrame.\n",
    "mouseIDs = clean_data['Mouse ID'].unique()\n",
    "mouseCount = len(mouseIDs)\n",
    "mouseCount"
   ]
  },
  {
   "cell_type": "markdown",
   "metadata": {},
   "source": [
    "## Summary Statistics"
   ]
  },
  {
   "cell_type": "code",
   "execution_count": null,
   "metadata": {},
   "outputs": [],
   "source": [
    "# Generate a summary statistics table of mean, median, variance, standard deviation, and SEM of the tumor volume for each regimen\n",
    "\n",
    "# Use groupby and summary statistical methods to calculate the following properties of each drug regimen: \n",
    "# mean, median, variance, standard deviation, and SEM of the tumor volume. \n",
    "# Assemble the resulting series into a single summary dataframe.\n",
    "tumorSummary ={}\n",
    "\n",
    "tumorVolMeanByDrug = clean_data.groupby('Drug Regimen')['Tumor Volume (mm3)'].mean()\n",
    "tumorVolMedianByDrug = clean_data.groupby('Drug Regimen')['Tumor Volume (mm3)'].median()\n",
    "tumorVolVarByDrug = clean_data.groupby('Drug Regimen')['Tumor Volume (mm3)'].var()\n",
    "tumorVolSDByDrug = clean_data.groupby('Drug Regimen')['Tumor Volume (mm3)'].std()\n",
    "tumorVolSEMByDrug = clean_data.groupby('Drug Regimen')['Tumor Volume (mm3)'].sem()"
   ]
  },
  {
   "cell_type": "code",
   "execution_count": null,
   "metadata": {},
   "outputs": [],
   "source": [
    "tumorSummary = pd.DataFrame(tumorVolMeanByDrug)\n",
    "tumorSummary = pd.merge(tumorSummary, tumorVolMedianByDrug, on='Drug Regimen')\n",
    "tumorSummary = tumorSummary.rename(columns={'Tumor Volume (mm3)_x':'Mean Tumor Volume',\n",
    "                                            'Tumor Volume (mm3)_y':'Median Tumor Volume'})"
   ]
  },
  {
   "cell_type": "code",
   "execution_count": null,
   "metadata": {},
   "outputs": [],
   "source": [
    "tumorSummary = pd.merge(tumorSummary, tumorVolVarByDrug, on='Drug Regimen')\n",
    "tumorSummary = pd.merge(tumorSummary, tumorVolSDByDrug, on='Drug Regimen')\n",
    "tumorSummary = pd.merge(tumorSummary, tumorVolSEMByDrug, on='Drug Regimen')\n",
    "tumorSummary = tumorSummary.rename(columns={'Tumor Volume (mm3)_x':'Variance of Tumor Volume',\n",
    "                                            'Tumor Volume (mm3)_y':'Std Dev Tumor Volume',\n",
    "                                            'Tumor Volume (mm3)':'Std Err Tumor Volume'})\n",
    "tumorSummary"
   ]
  },
  {
   "cell_type": "code",
   "execution_count": null,
   "metadata": {},
   "outputs": [],
   "source": [
    "# Generate a summary statistics table of mean, median, variance, standard deviation, and SEM of the tumor volume for each regimen\n",
    "\n",
    "# Using the aggregation method, produce the same summary statistics in a single line\n",
    "tumorSumm = clean_data.groupby('Drug Regimen')['Tumor Volume (mm3)'].agg(['mean','median','var','std','sem'])\n",
    "tumorSumm"
   ]
  },
  {
   "cell_type": "markdown",
   "metadata": {},
   "source": [
    "## Bar and Pie Charts"
   ]
  },
  {
   "cell_type": "code",
   "execution_count": null,
   "metadata": {},
   "outputs": [],
   "source": [
    "# Generate a bar plot showing the total number of timepoints for all mice tested for each drug regimen using Pandas.\n",
    "totalTmPt = clean_data.groupby('Drug Regimen')['Timepoint'].count()\n",
    "totalTmPt\n",
    "tpPandas = totalTmPt.plot.bar(x='Drug Regimen', y='Timepoint', rot=45)\n",
    "plt.ylabel('Total Number of Measurements')"
   ]
  },
  {
   "cell_type": "code",
   "execution_count": null,
   "metadata": {},
   "outputs": [],
   "source": [
    "# Generate a bar plot showing the total number of timepoints for all mice tested for each drug regimen using pyplot.\n",
    "\n",
    "tpPyplot = totalTmPt.plot(kind='bar', title='Total Number of Measurements in Each Drug Regimen')\n",
    "plt.ylabel('Total Number of Measurements')"
   ]
  },
  {
   "cell_type": "markdown",
   "metadata": {},
   "source": [
    "## Pie Chart"
   ]
  },
  {
   "cell_type": "code",
   "execution_count": null,
   "metadata": {},
   "outputs": [],
   "source": [
    "# Generate a pie plot showing the distribution of female versus male mice using Pandas\n",
    "\n",
    "# Delete mice with duplicate IDs from mouse data\n",
    "for ID in dupIDs:\n",
    "    clean_MseData = mouse_metadata[mouse_metadata['Mouse ID'] != ID]\n",
    "\n",
    "# group by 'Sex', count for each sex\n",
    "groupBySex = clean_MseData.groupby('Sex')['Mouse ID'].count()\n",
    "\n",
    "sxPd = groupBySex.plot(kind=\"pie\", autopct='%1.2f%%')"
   ]
  },
  {
   "cell_type": "code",
   "execution_count": null,
   "metadata": {},
   "outputs": [],
   "source": [
    "groupBySex"
   ]
  },
  {
   "cell_type": "code",
   "execution_count": null,
   "metadata": {},
   "outputs": [],
   "source": [
    "# Generate a pie plot showing the distribution of female versus male mice using pyplot\n",
    "labels = ['Female', 'Male']\n",
    "sxPlt = plt.pie(groupBySex, autopct='%1.2f%%', labels=labels)\n",
    "plt.show()\n"
   ]
  },
  {
   "cell_type": "markdown",
   "metadata": {},
   "source": [
    "## Quartiles, Outliers and Boxplots"
   ]
  },
  {
   "cell_type": "code",
   "execution_count": null,
   "metadata": {},
   "outputs": [],
   "source": [
    "# Calculate the final tumor volume of each mouse across four of the treatment regimens:  \n",
    "# Capomulin, Ramicane, Infubinol, and Ceftamin\n",
    "\n",
    "# Start by getting the last (greatest) timepoint for each mouse\n",
    "lastTimePts = clean_data.groupby('Mouse ID')['Timepoint'].max()\n",
    "lastTimePts\n",
    "\n",
    "# Merge this group df with the original dataframe to get the tumor volume at the last timepoint\n",
    "finalTumorVol = pd.merge(lastTimePts, clean_data, on=['Mouse ID', 'Timepoint'])\n",
    "finalTumorVol"
   ]
  },
  {
   "cell_type": "code",
   "execution_count": null,
   "metadata": {},
   "outputs": [],
   "source": [
    "# Put treatments into a list for for loop (and later for plot labels)\n",
    "drugs = ['Capomulin', 'Ramicane', 'Infubinol', 'Ceftamin']"
   ]
  },
  {
   "cell_type": "code",
   "execution_count": null,
   "metadata": {},
   "outputs": [],
   "source": [
    "# # Create empty lists to fill with tumor vol data (for plotting)\n",
    "tumorVolData = []\n",
    "\n",
    "quartiles=[]\n",
    "lowerQ=[]\n",
    "upperQ=[]\n",
    "iqrs=[]\n",
    "outlierPts=[]\n",
    "\n",
    "# loop through each drug to pull only mice and their volumes with specified treatments *output: (list of lists)\n",
    "for tx in drugs:\n",
    "    \n",
    "    #tumor volumes for each tx drug regimen\n",
    "    finalVol = finalTumorVol.loc[finalTumorVol['Drug Regimen'] == tx, 'Tumor Volume (mm3)']\n",
    "    \n",
    "    # find upper, lower quartiles, IQR\n",
    "    quartiles = finalVol.quantile([.25,.5,.75])\n",
    "    \n",
    "    LQ = quartiles[.25]\n",
    "    lowerQ.append(LQ)\n",
    "    \n",
    "    UQ = quartiles[.75]\n",
    "    upperQ.append(UQ)\n",
    "    \n",
    "    IQR = (UQ - LQ)\n",
    "    iqrs.append(IQR) \n",
    "    \n",
    "    # Determine outliers using upper and lower bounds\n",
    "    lower_bound = LQ - (1.5*IQR)\n",
    "    upper_bound = UQ + (1.5*IQR)\n",
    "    \n",
    "    outlierU = finalVol.loc[finalVol >= upper_bound]# or finalVol <= lower_bound]\n",
    "    outlierL = finalVol.loc[finalVol <= lower_bound]\n",
    "    outlierPts.append(outlierU)\n",
    "    outlierPts.append(outlierL)\n",
    "    \n",
    "    # append to tumorVolData list that contains all volumes for all drugs\n",
    "    tumorVolData.append(finalVol)\n",
    "   \n",
    "    # print\n",
    "    if outlierU.empty and outlierL.empty:\n",
    "        print(f'There are no potential outliers in tumor volume data for {tx}. ')\n",
    "    elif outlierU.empty:\n",
    "        print(f'Potential outliers in the tumor volume data for {tx} are {outlierL} ')\n",
    "    elif outlierL.empty:\n",
    "        print(f'Potential outliers in the tumor volume data for {tx} are {outlierU} ')\n"
   ]
  },
  {
   "cell_type": "markdown",
   "metadata": {},
   "source": [
    "## Box plot"
   ]
  },
  {
   "cell_type": "code",
   "execution_count": null,
   "metadata": {},
   "outputs": [],
   "source": [
    "# Generate a box plot of the final tumor volume of each mouse across four regimens of interest\n",
    "fig1, ax1 = plt.subplots()\n",
    "ax1.set_title('Final Tumor Volume (mm3)')\n",
    "ax1.set_xlabel('Drug Regimen')\n",
    "ax1.set_ylabel('Tumor Volume (mm3)')\n",
    "\n",
    "# change look of outlier symbols\n",
    "blueDiam = dict(markerfacecolor='b', marker='D')\n",
    "\n",
    "ax1.boxplot(tumorVolData, flierprops=blueDiam)\n",
    "ax1.set_xticklabels(drugs)\n",
    "\n",
    "plt.show()\n",
    "\n"
   ]
  },
  {
   "cell_type": "markdown",
   "metadata": {},
   "source": [
    "## Line and Scatter Plots"
   ]
  },
  {
   "cell_type": "code",
   "execution_count": null,
   "metadata": {},
   "outputs": [],
   "source": [
    "# Generate a line plot of tumor volume vs. time point for a mouse treated with Capomulin\n",
    "m_ID = 's185'\n",
    "\n",
    "# Pull all data for mouse example\n",
    "mouseEx = clean_data.loc[clean_data['Mouse ID'] == m_ID]\n",
    "mouseEx\n",
    "\n",
    "# Line plot\n",
    "fig2, ax2 = plt.subplots()\n",
    "ax2.plot(mouseEx['Timepoint'], mouseEx['Tumor Volume (mm3)'])\n",
    "ax2.set(xlabel='Timepoint', ylabel='Tumor Volume (mm3)',\n",
    "       title=f'Tumor volume over time for mouse {m_ID} on Capomulin')\n",
    "plt.show()"
   ]
  },
  {
   "cell_type": "markdown",
   "metadata": {},
   "source": [
    "## Scatter Plot"
   ]
  },
  {
   "cell_type": "code",
   "execution_count": null,
   "metadata": {},
   "outputs": [],
   "source": [
    "# Generate a scatter plot of average tumor volume vs. mouse weight for the Capomulin regimen\n",
    "drugEx = 'Capomulin'\n",
    "\n",
    "# Pull all data for drug example Capomulin\n",
    "drugEx_df = clean_data.loc[clean_data['Drug Regimen'] == drugEx]\n",
    "drugEx_df\n",
    "\n",
    "tumorVolMeans = drugEx_df.groupby('Mouse ID').mean()\n",
    "tumorVolMeans\n",
    "\n",
    "y_vals = tumorVolMeans['Tumor Volume (mm3)']\n",
    "x_vals = tumorVolMeans['Weight (g)']\n",
    "\n",
    "# Plot scatter plot\n",
    "#fig4, ax4 = plt.subplots()\n",
    "plt.scatter(x_vals, y_vals)\n",
    "plt.xlabel('Weight (g)')\n",
    "plt.ylabel('Mean Tumor Volume')\n",
    "plt.title (f'Mean Tumor Volume vs Mouse Weight (g) on {drugEx}')\n",
    "# ax4.set(xlabel='Weight (g)', ylabel='Mean Tumor Volume',\n",
    "#         title=f'Mean Tumor Volume vs Mouse Weight (g) on {drugEx}')\n",
    "plt.show()"
   ]
  },
  {
   "cell_type": "markdown",
   "metadata": {},
   "source": [
    "## Correlation and Regression"
   ]
  },
  {
   "cell_type": "code",
   "execution_count": null,
   "metadata": {},
   "outputs": [],
   "source": [
    "# Calculate the correlation coefficient and linear regression model \n",
    "# for mouse weight and average tumor volume for the Capomulin regimen\n"
   ]
  },
  {
   "cell_type": "code",
   "execution_count": null,
   "metadata": {},
   "outputs": [],
   "source": [
    "# Print out the r-squared value along with the plot.\n",
    "\n",
    "(slope, intercept, rvalue, pvalue, stderr) = st.linregress(x_vals, y_vals)\n",
    "regress_values = (slope * x_vals) + intercept\n",
    "\n",
    "eqn = \"y = \" + str(round(slope,2)) + \"x + \" + str(round(intercept,2))\n",
    "\n",
    "plt.scatter(x_vals, y_vals)\n",
    "plt.plot(x_vals,regress_values,\"r-\")\n",
    "\n",
    "plt.annotate(eqn,(16,44),fontsize=15,color=\"red\")\n",
    "plt.xlabel('Weight (g)')\n",
    "plt.ylabel('Mean Tumor Volume mm3')\n",
    "plt.title (f'Mean Tumor Volume vs Mouse Weight (g) on {drugEx}')\n",
    "print(f\"The r-squared is: {rvalue**2}\")\n",
    "print(eqn)\n",
    "plt.show()"
   ]
  },
  {
   "cell_type": "code",
   "execution_count": null,
   "metadata": {},
   "outputs": [],
   "source": []
  }
 ],
 "metadata": {
  "anaconda-cloud": {},
  "kernelspec": {
   "display_name": "Python 3",
   "language": "python",
   "name": "python3"
  },
  "language_info": {
   "codemirror_mode": {
    "name": "ipython",
    "version": 3
   },
   "file_extension": ".py",
   "mimetype": "text/x-python",
   "name": "python",
   "nbconvert_exporter": "python",
   "pygments_lexer": "ipython3",
   "version": "3.8.8"
  }
 },
 "nbformat": 4,
 "nbformat_minor": 4
}
